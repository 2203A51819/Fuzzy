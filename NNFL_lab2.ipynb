{
  "nbformat": 4,
  "nbformat_minor": 0,
  "metadata": {
    "colab": {
      "provenance": [],
      "authorship_tag": "ABX9TyMcNNbhp7aoUU0vObsAwf3d",
      "include_colab_link": true
    },
    "kernelspec": {
      "name": "python3",
      "display_name": "Python 3"
    },
    "language_info": {
      "name": "python"
    }
  },
  "cells": [
    {
      "cell_type": "markdown",
      "metadata": {
        "id": "view-in-github",
        "colab_type": "text"
      },
      "source": [
        "<a href=\"https://colab.research.google.com/github/2203A51819/Fuzzy/blob/main/NNFL_lab2.ipynb\" target=\"_parent\"><img src=\"https://colab.research.google.com/assets/colab-badge.svg\" alt=\"Open In Colab\"/></a>"
      ]
    },
    {
      "cell_type": "code",
      "execution_count": 1,
      "metadata": {
        "colab": {
          "base_uri": "https://localhost:8080/"
        },
        "id": "FqPMzDy-DoW6",
        "outputId": "e85dfa0c-a069-480e-ac3f-2b2660dab790"
      },
      "outputs": [
        {
          "output_type": "stream",
          "name": "stdout",
          "text": [
            "2.3\n"
          ]
        }
      ],
      "source": [
        "inputs = [1,2,3]\n",
        "weights = [0.2,0.8,-0.5]\n",
        "bias = 2\n",
        "\n",
        "output = inputs[0]*weights[0]+inputs[1]*weights[1]+inputs[2]*weights[2]+bias\n",
        "print(output)"
      ]
    },
    {
      "cell_type": "code",
      "source": [
        "inputs = [1,2,3,2.5]\n",
        "weights1 = [0.2,0.8,-0.5,1.0]\n",
        "weights2 = [0.5,-0.91,0.26,-0.5]\n",
        "weights3 = [-0.26,-0.27,0.17,0.87]\n",
        "\n",
        "bias1 = 2\n",
        "bias2 = 3\n",
        "bias3 = 0.5\n",
        "\n",
        "output = [inputs[0]*weights1[0]+inputs[1]*weights1[1]+inputs[2]*weights1[2]+inputs[3]*weights1[3]+bias1,\n",
        "         inputs[0]*weights2[0]+inputs[1]*weights2[1]+inputs[2]*weights2[2]+inputs[3]*weights2[3]+bias2,\n",
        "        inputs[0]*weights3[0]+inputs[1]*weights3[1]+inputs[2]*weights3[2]+inputs[3]*weights3[3]+bias3]\n",
        "\n",
        "print(output)"
      ],
      "metadata": {
        "colab": {
          "base_uri": "https://localhost:8080/"
        },
        "id": "QbY9eqKhGUNl",
        "outputId": "181d382e-00dd-4877-8dc5-cc75b54f2d39"
      },
      "execution_count": 9,
      "outputs": [
        {
          "output_type": "stream",
          "name": "stdout",
          "text": [
            "[4.8, 1.21, 2.385]\n"
          ]
        }
      ]
    },
    {
      "cell_type": "code",
      "source": [
        "import numpy as np"
      ],
      "metadata": {
        "id": "gXLQJF0CPcE-"
      },
      "execution_count": 10,
      "outputs": []
    },
    {
      "cell_type": "code",
      "source": [
        "inputs = np.array([1 , 2,3,2.5])"
      ],
      "metadata": {
        "id": "ywKmAHtXPmnN"
      },
      "execution_count": 11,
      "outputs": []
    },
    {
      "cell_type": "code",
      "source": [
        "weights = np.array([[0.2,0.8,-0.5,1.0],\n",
        " [0.5,-0.91,0.26,-0.5],\n",
        " [-0.26,-0.27,0.17,0.87]\n",
        "                    ])"
      ],
      "metadata": {
        "id": "R6wdcgJhPwJm"
      },
      "execution_count": 12,
      "outputs": []
    },
    {
      "cell_type": "code",
      "source": [
        "biases = np.array([2,3,0.5])\n",
        "\n",
        "output = np.dot(weights,inputs)+biases\n",
        "\n",
        "print(output)"
      ],
      "metadata": {
        "colab": {
          "base_uri": "https://localhost:8080/"
        },
        "id": "pXRxnIo_QuiG",
        "outputId": "0ea3cc2e-ca8b-45bc-ed7a-01c361edcdc2"
      },
      "execution_count": 14,
      "outputs": [
        {
          "output_type": "stream",
          "name": "stdout",
          "text": [
            "[4.8   1.21  2.385]\n"
          ]
        }
      ]
    },
    {
      "cell_type": "code",
      "source": [
        "#Single Layer of Neurons with Activation Function\n",
        "import numpy as np\n",
        "\n",
        "def relu(x):\n",
        "    return np.maximum(0, x)\n",
        "\n",
        "# Inputs to the layer (a single input vector)\n",
        "inputs = np.array([1, 2, 3, 2.5])\n",
        "\n",
        "# Weights for three neurons (each row represents weights for one neuron)\n",
        "weights = np.array([\n",
        "    [0.2, 0.8, -0.5, 1.0],\n",
        "    [0.5, -0.91, 0.26, -0.5],\n",
        "    [-0.26, -0.27, 0.17, 0.87]\n",
        "])\n",
        "\n",
        "# Biases for the neurons\n",
        "biases = np.array([2, 3, 0.5])\n",
        "\n",
        "# Calculate the output for all neurons\n",
        "output = np.dot(weights, inputs) + biases\n",
        "\n",
        "# Apply ReLU activation function\n",
        "output = relu(output)\n",
        "\n",
        "print(output)"
      ],
      "metadata": {
        "colab": {
          "base_uri": "https://localhost:8080/"
        },
        "id": "qORJdvqqVxx2",
        "outputId": "3de5a0fe-d7b3-4837-c10d-3d41ac47dc87"
      },
      "execution_count": 15,
      "outputs": [
        {
          "output_type": "stream",
          "name": "stdout",
          "text": [
            "[4.8   1.21  2.385]\n"
          ]
        }
      ]
    }
  ]
}